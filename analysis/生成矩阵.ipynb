{
 "cells": [
  {
   "cell_type": "code",
   "execution_count": 3,
   "metadata": {},
   "outputs": [],
   "source": [
    "import numpy as np\n",
    "import json"
   ]
  },
  {
   "cell_type": "code",
   "execution_count": 5,
   "metadata": {},
   "outputs": [],
   "source": [
    "day=[0,0,0]\n",
    "for i in range(0,3): \n",
    "    with open('day'+str(1)+'series.json','r') as load_f:\n",
    "         day[i] = json.load(load_f)"
   ]
  },
  {
   "cell_type": "code",
   "execution_count": 7,
   "metadata": {},
   "outputs": [],
   "source": [
    "def edit_distance(word1, word2):\n",
    "    \"\"\"opensource algs\"\"\"    \n",
    "    len1 = len(word1);\n",
    "    len2 = len(word2);\n",
    "    dp = np.zeros((len1 + 1,len2 + 1))\n",
    "    for i in range(len1 + 1):\n",
    "        dp[i][0] = i;     \n",
    "    for j in range(len2 + 1):\n",
    "        dp[0][j] = j;\n",
    "     \n",
    "    for i in range(1, len1 + 1):\n",
    "        for j in range(1, len2 + 1):\n",
    "            delta = 0 if word1[i-1] == word2[j-1] else 1\n",
    "            dp[i][j] = min(dp[i - 1][j - 1] + delta, min(dp[i-1][j] + 1, dp[i][j - 1] + 1))\n",
    "    return dp[len1][len2]"
   ]
  },
  {
   "cell_type": "code",
   "execution_count": 9,
   "metadata": {},
   "outputs": [
    {
     "data": {
      "text/plain": [
       "1.0"
      ]
     },
     "execution_count": 9,
     "metadata": {},
     "output_type": "execute_result"
    }
   ],
   "source": [
    "#test\n",
    "edit_distance(['MAIN','EXIT'],['EXIT'])"
   ]
  },
  {
   "cell_type": "code",
   "execution_count": 10,
   "metadata": {},
   "outputs": [],
   "source": [
    "def getDistance(data):\n",
    "    le=len(data)\n",
    "    mat=numpy.zeros(shape=(le,le))\n",
    "    for i in range(le):\n",
    "        for j in range(i):\n",
    "            distance=edit_distance(data[i][0],data[j][0])+edit_distance(data[i][1],data[j][1])+edit_distance(data[i][2],data[j][2])\n",
    "            mat[i,j]=distance\n",
    "            mat[j,i]=distance\n",
    "    return mat"
   ]
  },
  {
   "cell_type": "markdown",
   "metadata": {},
   "source": [
    "Sample"
   ]
  },
  {
   "cell_type": "code",
   "execution_count": 12,
   "metadata": {},
   "outputs": [],
   "source": [
    "i=1\n",
    "j=2\n",
    "data=day[0]\n",
    "distance=edit_distance(data[i][0],data[j][0])+edit_distance(data[i][1],data[j][1])+edit_distance(data[i][2],data[j][2])"
   ]
  },
  {
   "cell_type": "code",
   "execution_count": 13,
   "metadata": {},
   "outputs": [
    {
     "data": {
      "text/plain": [
       "11.0"
      ]
     },
     "execution_count": 13,
     "metadata": {},
     "output_type": "execute_result"
    }
   ],
   "source": [
    "distance\n",
    "#3+4*2=11"
   ]
  },
  {
   "cell_type": "code",
   "execution_count": 14,
   "metadata": {},
   "outputs": [
    {
     "data": {
      "text/plain": [
       "[['ROOM6', 'CI', 'ROOM6', 'WC3', 'CI'],\n",
       " ['20610', '11203', '20711', '20410', '11204'],\n",
       " ['20610', '11203', '20711', '20410', '11204']]"
      ]
     },
     "execution_count": 14,
     "metadata": {},
     "output_type": "execute_result"
    }
   ],
   "source": [
    "data[1]"
   ]
  },
  {
   "cell_type": "code",
   "execution_count": 15,
   "metadata": {},
   "outputs": [
    {
     "data": {
      "text/plain": [
       "[['ROOM6', 'AISLE1', 'ROOM6', 'AISLE1'],\n",
       " ['20611', '10119', '20711', '10119'],\n",
       " ['20611', '10119', '20711', '10119']]"
      ]
     },
     "execution_count": 15,
     "metadata": {},
     "output_type": "execute_result"
    }
   ],
   "source": [
    "data[2]"
   ]
  },
  {
   "cell_type": "markdown",
   "metadata": {},
   "source": [
    "MAIN PROGRAM"
   ]
  },
  {
   "cell_type": "code",
   "execution_count": null,
   "metadata": {},
   "outputs": [],
   "source": [
    "mat=[0,0,0]\n",
    "for i in range(0,3):\n",
    "    mat[i]=getDistance(day[i])"
   ]
  }
 ],
 "metadata": {
  "kernelspec": {
   "display_name": "Python 3",
   "language": "python",
   "name": "python3"
  },
  "language_info": {
   "codemirror_mode": {
    "name": "ipython",
    "version": 3
   },
   "file_extension": ".py",
   "mimetype": "text/x-python",
   "name": "python",
   "nbconvert_exporter": "python",
   "pygments_lexer": "ipython3",
   "version": "3.6.5"
  }
 },
 "nbformat": 4,
 "nbformat_minor": 2
}
