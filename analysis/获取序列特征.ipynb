{
 "cells": [
  {
   "cell_type": "code",
   "execution_count": 155,
   "metadata": {},
   "outputs": [],
   "source": [
    "import json\n",
    "import numpy as np"
   ]
  },
  {
   "cell_type": "code",
   "execution_count": 115,
   "metadata": {},
   "outputs": [],
   "source": [
    "#每日数据\n",
    "#由于这里的数据处理吴雨杭应该有现成的算法，这里应该等他的算法然后直接生成一个新的细粒度的序列\n",
    "d=dict()\n",
    "for order in range(1,4): \n",
    "    with open('RefinedDay'+str(order)+'Dic.json','r') as load_f:\n",
    "         d[order] = json.load(load_f)"
   ]
  },
  {
   "cell_type": "code",
   "execution_count": 116,
   "metadata": {},
   "outputs": [],
   "source": [
    "#提取序列特征\n",
    "feat=(0,dict(),dict(),dict())"
   ]
  },
  {
   "cell_type": "code",
   "execution_count": 119,
   "metadata": {},
   "outputs": [],
   "source": [
    "#求停留点序列\n",
    "def parsevec(vec,ts):\n",
    "    res=[]\n",
    "    delta=0\n",
    "    leng=len(vec)\n",
    "    for i in range(leng):\n",
    "        if(i+1<leng and vec[i+1][0]-vec[i][0]>ts):\n",
    "            res.append(vec[i][1])\n",
    "    return res\n",
    "#求序列编辑距离\n",
    "def edit_distance(word1, word2):\n",
    "    \"\"\"opensource algs\"\"\"    \n",
    "    len1 = len(word1);\n",
    "    len2 = len(word2);\n",
    "    dp = np.zeros((len1 + 1,len2 + 1))\n",
    "    for i in range(len1 + 1):\n",
    "        dp[i][0] = i;     \n",
    "    for j in range(len2 + 1):\n",
    "        dp[0][j] = j;\n",
    "     \n",
    "    for i in range(1, len1 + 1):\n",
    "        for j in range(1, len2 + 1):\n",
    "            delta = 0 if word1[i-1] == word2[j-1] else 1\n",
    "            dp[i][j] = min(dp[i - 1][j - 1] + delta, min(dp[i-1][j] + 1, dp[i][j - 1] + 1))\n",
    "    return dp[len1][len2]"
   ]
  },
  {
   "cell_type": "code",
   "execution_count": 120,
   "metadata": {},
   "outputs": [],
   "source": [
    "#计算停留点序列\n",
    "ids = set()\n",
    "for day in d:\n",
    "    for k in d[day]:\n",
    "        ids.add(k)\n",
    "        feat[day][k]=parsevec(d[day][k],5)"
   ]
  },
  {
   "cell_type": "code",
   "execution_count": 129,
   "metadata": {},
   "outputs": [],
   "source": [
    "#所有可能的位置\n",
    "pos=set()\n",
    "for arr in feat[1:4]:\n",
    "    for k in arr:\n",
    "        for i in arr[k]:\n",
    "            pos.add(i)"
   ]
  },
  {
   "cell_type": "code",
   "execution_count": 140,
   "metadata": {},
   "outputs": [],
   "source": [
    "#解码器/编码器\n",
    "decoder=dict()\n",
    "encoder=dict()\n",
    "i=ord('a')\n",
    "for k in pos:\n",
    "    encoder[k]=chr(i)\n",
    "    decoder[chr(i)]=k\n",
    "    i=i+1"
   ]
  },
  {
   "cell_type": "code",
   "execution_count": 143,
   "metadata": {},
   "outputs": [],
   "source": [
    "def encode(ls):\n",
    "    st=''\n",
    "    for i in ls:\n",
    "        st+=encoder[i]\n",
    "    return st"
   ]
  },
  {
   "cell_type": "code",
   "execution_count": 144,
   "metadata": {},
   "outputs": [],
   "source": [
    "#数据重塑\n",
    "res=dict()\n",
    "for i in ids:\n",
    "    res[i]=[0,0,0]\n",
    "for i in ids:\n",
    "    for k in range(0,3):\n",
    "        if i in feat[k+1]:\n",
    "            res[i][k]=encode(feat[k+1][i])\n",
    "        else:\n",
    "            res[i][k]=''"
   ]
  },
  {
   "cell_type": "code",
   "execution_count": 156,
   "metadata": {},
   "outputs": [],
   "source": [
    "js= json.dumps(res)"
   ]
  },
  {
   "cell_type": "code",
   "execution_count": 159,
   "metadata": {},
   "outputs": [],
   "source": [
    "en= json.dumps(encoder)"
   ]
  },
  {
   "cell_type": "code",
   "execution_count": 160,
   "metadata": {},
   "outputs": [],
   "source": [
    "de=json.dumps(decoder)"
   ]
  },
  {
   "cell_type": "code",
   "execution_count": 163,
   "metadata": {},
   "outputs": [],
   "source": [
    "f = open(\"feature.json\", \"w\")\n",
    "f.write(js)\n",
    "f.close()"
   ]
  },
  {
   "cell_type": "code",
   "execution_count": 164,
   "metadata": {},
   "outputs": [],
   "source": [
    "f = open(\"en.json\", \"w\")\n",
    "f.write(en)\n",
    "f.close()"
   ]
  },
  {
   "cell_type": "code",
   "execution_count": 165,
   "metadata": {},
   "outputs": [],
   "source": [
    "f = open(\"de.json\", \"w\")\n",
    "f.write(de)\n",
    "f.close()"
   ]
  },
  {
   "cell_type": "code",
   "execution_count": null,
   "metadata": {},
   "outputs": [],
   "source": []
  }
 ],
 "metadata": {
  "kernelspec": {
   "display_name": "Python 3",
   "language": "python",
   "name": "python3"
  },
  "language_info": {
   "codemirror_mode": {
    "name": "ipython",
    "version": 3
   },
   "file_extension": ".py",
   "mimetype": "text/x-python",
   "name": "python",
   "nbconvert_exporter": "python",
   "pygments_lexer": "ipython3",
   "version": "3.6.5"
  }
 },
 "nbformat": 4,
 "nbformat_minor": 2
}
